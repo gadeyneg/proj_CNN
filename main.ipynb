{
 "nbformat": 4,
 "nbformat_minor": 2,
 "metadata": {
  "language_info": {
   "name": "python",
   "codemirror_mode": {
    "name": "ipython",
    "version": 3
   },
   "version": "3.7.2"
  },
  "orig_nbformat": 2,
  "file_extension": ".py",
  "mimetype": "text/x-python",
  "name": "python",
  "npconvert_exporter": "python",
  "pygments_lexer": "ipython3",
  "version": 3
 },
 "cells": [
  {
   "cell_type": "markdown",
   "metadata": {},
   "outputs": [],
   "source": [
    "# Training own cnn with mnist datas"
   ]
  },
  {
   "cell_type": "code",
   "metadata": {},
   "outputs": [],
   "source": [
    "import NeuralNetwork\n",
    "import Layers\n",
    "import Losses\n",
    "\n",
    "import numpy as np\n",
    "from matplotlib import pyplot as plt\n"
   ]
  },
  {
   "cell_type": "markdown",
   "metadata": {},
   "outputs": [],
   "source": [
    "import datas, downloaded from kaggle as csv files, at https://www.kaggle.com/oddrationale/mnist-in-csv\n",
    "\n",
    "download files and store them in \"data\" directory to get correct behavior."
   ]
  },
  {
   "cell_type": "code",
   "metadata": {},
   "outputs": [],
   "source": [
    "test = np.loadtxt(open(\"data/mnist_test.csv\", \"rb\"), delimiter=\",\", skiprows=1)\n",
    "y_test, X_test = test[:,0].astype('int8'), test[:, 1:].reshape(test.shape[0], 28, 28, 1)\n",
    "\n",
    "train = np.loadtxt(open(\"data/mnist_train.csv\", \"rb\"), delimiter=\",\", skiprows=1)\n",
    "y_train, X_train = train[:,0].astype('int8'), train[:, 1:].reshape(train.shape[0], 28, 28, 1)"
   ]
  },
  {
   "cell_type": "markdown",
   "metadata": {},
   "outputs": [],
   "source": [
    "scale input and vectorize output"
   ]
  },
  {
   "cell_type": "code",
   "metadata": {},
   "outputs": [],
   "source": [
    "def to_categorical(arr):\n",
    "    n_class = arr.max() - arr.min() + 1\n",
    "    res = np.zeros((arr.shape[0], n_class), dtype = \"int8\")\n",
    "    for line in range(res.shape[0]):\n",
    "        l = [0] * n_class\n",
    "        l[arr[line]] = 1\n",
    "        res[line, :] = l\n",
    "    return res\n",
    "\n",
    "y_train, y_test = to_categorical(y_train), to_categorical(y_test)"
   ]
  },
  {
   "cell_type": "code",
   "metadata": {},
   "outputs": [],
   "source": [
    "X_train, X_test = X_train/255, X_test/255"
   ]
  },
  {
   "cell_type": "markdown",
   "metadata": {},
   "outputs": [],
   "source": [
    "Build model"
   ]
  },
  {
   "cell_type": "code",
   "metadata": {},
   "outputs": [],
   "source": [
    "from importlib import reload\n",
    "reload(Losses)\n",
    "reload(NeuralNetwork)\n",
    "reload(Layers)"
   ]
  },
  {
   "cell_type": "code",
   "metadata": {},
   "outputs": [],
   "source": [
    "model = NeuralNetwork.NeuralNetwork(loss_func = Losses.categorical_crossentropy)\n",
    "\n",
    "l1 = Layers.Input_2D((28, 28, 1))\n",
    "l2 = Layers.Conv2D(l1, 10)\n",
    "l3 = Layers.MaxPool2D(l2)\n",
    "l4 = Layers.Dense_1D(l3, 10)\n",
    "\n",
    "model.add_layer(l1)\n",
    "model.add_layer(l2)\n",
    "model.add_layer(l3)\n",
    "model.add_layer(l4)"
   ]
  },
  {
   "cell_type": "code",
   "metadata": {},
   "outputs": [],
   "source": [
    "model.run(X_train[:5000], y_train[:5000])"
   ]
  },
  {
   "cell_type": "code",
   "metadata": {},
   "outputs": [],
   "source": [
    "res = 0\n",
    "for i in range(1000):\n",
    "    if i%100 == 0:\n",
    "        print(i)\n",
    "    if model.predict(X_test[i]).argmax() == y_test[i].argmax():\n",
    "        res += 1\n",
    "print(\"Accuracy : \", res/1000)"
   ]
  },
  {
   "cell_type": "code",
   "metadata": {},
   "outputs": [],
   "source": []
  }
 ]
}